{
 "cells": [
  {
   "cell_type": "code",
   "execution_count": 1,
   "id": "39b168f9",
   "metadata": {},
   "outputs": [],
   "source": [
    "import os"
   ]
  },
  {
   "cell_type": "code",
   "execution_count": 2,
   "id": "d3d3b7eb",
   "metadata": {},
   "outputs": [
    {
     "data": {
      "text/plain": [
       "['.git',\n",
       " '.ipynb_checkpoints',\n",
       " 'data.csv',\n",
       " 'File_manip.ipynb',\n",
       " 'Spectrum_analyser.ipynb']"
      ]
     },
     "execution_count": 2,
     "metadata": {},
     "output_type": "execute_result"
    }
   ],
   "source": [
    "os.listdir()"
   ]
  },
  {
   "cell_type": "code",
   "execution_count": 6,
   "id": "8cf3a526",
   "metadata": {},
   "outputs": [],
   "source": [
    "os.chdir(r\"C:\\Users\\mcarufel\\Downloads\")"
   ]
  },
  {
   "cell_type": "code",
   "execution_count": 8,
   "id": "f56931eb",
   "metadata": {},
   "outputs": [],
   "source": [
    "ldir = os.listdir()"
   ]
  },
  {
   "cell_type": "code",
   "execution_count": 10,
   "id": "e4f1569c",
   "metadata": {},
   "outputs": [],
   "source": [
    "f_pdf = []\n",
    "for i in ldir:\n",
    "    if i[-3:] == \"pdf\":\n",
    "        f_pdf.append(i)"
   ]
  },
  {
   "cell_type": "code",
   "execution_count": 11,
   "id": "1d177cd1",
   "metadata": {},
   "outputs": [
    {
     "data": {
      "text/plain": [
       "['06ac624fedf0.pdf',\n",
       " '0900766b815bb5de.pdf',\n",
       " '1.pdf',\n",
       " '222-EN.pdf',\n",
       " '410pdf-emc-problems-and-solutions.pdf',\n",
       " '42hs40-1684.pdf',\n",
       " '51140-installation-instructions.pdf',\n",
       " 'activity.pdf',\n",
       " 'Aucoq_AprilJune2021_DigitalWeb_-MENU.pdf',\n",
       " 'B-Primaire6_18052020.pdf',\n",
       " 'ca-310_instruction_eng.pdf',\n",
       " 'Calendrier 2020.pdf',\n",
       " 'calendrier-zone-d-7moins.pdf',\n",
       " 'cd00000240-1795236.pdf',\n",
       " 'Contract_59585658.pdf',\n",
       " 'covid19.pdf',\n",
       " 'd1eaf1b80307.pdf',\n",
       " 'Dental Wings Mail - Accuracy tool. need all product specification and requirement.pdf',\n",
       " 'document.pdf',\n",
       " 'Feuillet Campeur COVID-12 juin 2020.pdf',\n",
       " 'hk_torquedatachart.pdf',\n",
       " 'HP3 Focus Report 2020-04-06 - Graph - FM.pdf',\n",
       " 'Livescribe_3_Basics_Guide.pdf',\n",
       " 'Martin Carufel 2e prise.pdf',\n",
       " 'MARTIN_CARUFEL_Signature_électronique_dIG_G.pdf',\n",
       " 'MI-21-13037 -am-mc.pdf',\n",
       " 'minolta-ca-310_datasheet.pdf',\n",
       " 'new focus scores and exposure adjustment.pdf',\n",
       " 'Onboarding agenda Vidian.pdf',\n",
       " 'PJ-Lettre-SE-2-adap-accueil.pdf',\n",
       " 'sd-6020-manual.pdf',\n",
       " 'slva892a.pdf',\n",
       " 'SM-42BYG011-25.pdf',\n",
       " 'STI75-4426 Virtuo Vivo – Laptop Installation Instructions (v1.0) (ID 11786).pdf',\n",
       " 'Training (1).pdf',\n",
       " 'uln2003a.pdf',\n",
       " 'UR3_Service_Manual_en.pdf',\n",
       " 'vibrating-tables-for-industry.pdf']"
      ]
     },
     "execution_count": 11,
     "metadata": {},
     "output_type": "execute_result"
    }
   ],
   "source": [
    "f_pdf"
   ]
  },
  {
   "cell_type": "code",
   "execution_count": 38,
   "id": "31fac368",
   "metadata": {},
   "outputs": [],
   "source": [
    "fp = os.scandir()"
   ]
  },
  {
   "cell_type": "code",
   "execution_count": 20,
   "id": "a09a1856",
   "metadata": {},
   "outputs": [
    {
     "data": {
      "text/plain": [
       "nt.ScandirIterator"
      ]
     },
     "execution_count": 20,
     "metadata": {},
     "output_type": "execute_result"
    }
   ],
   "source": [
    "type(fp)"
   ]
  },
  {
   "cell_type": "code",
   "execution_count": 52,
   "id": "296f508f",
   "metadata": {},
   "outputs": [
    {
     "name": "stdout",
     "output_type": "stream",
     "text": [
      "os.stat_result(st_mode=33206, st_ino=0, st_dev=0, st_nlink=0, st_uid=0, st_gid=0, st_size=88389, st_atime=1615344503, st_mtime=1589887394, st_ctime=1589887394)\n",
      "os.stat_result(st_mode=33206, st_ino=0, st_dev=0, st_nlink=0, st_uid=0, st_gid=0, st_size=721713, st_atime=1618841200, st_mtime=1618841200, st_ctime=1618841199)\n",
      "os.stat_result(st_mode=33206, st_ino=0, st_dev=0, st_nlink=0, st_uid=0, st_gid=0, st_size=188238, st_atime=1625232274, st_mtime=1625232274, st_ctime=1625232282)\n",
      "os.stat_result(st_mode=33206, st_ino=0, st_dev=0, st_nlink=0, st_uid=0, st_gid=0, st_size=69431831, st_atime=1615344502, st_mtime=1591641384, st_ctime=1591641334)\n",
      "os.stat_result(st_mode=33206, st_ino=0, st_dev=0, st_nlink=0, st_uid=0, st_gid=0, st_size=76684, st_atime=1615344502, st_mtime=1591015121, st_ctime=1591015121)\n",
      "os.stat_result(st_mode=33206, st_ino=0, st_dev=0, st_nlink=0, st_uid=0, st_gid=0, st_size=394151, st_atime=1615344502, st_mtime=1589480983, st_ctime=1589480983)\n",
      "os.stat_result(st_mode=33206, st_ino=0, st_dev=0, st_nlink=0, st_uid=0, st_gid=0, st_size=41908, st_atime=1621473643, st_mtime=1621385571, st_ctime=1621385569)\n",
      "os.stat_result(st_mode=33206, st_ino=0, st_dev=0, st_nlink=0, st_uid=0, st_gid=0, st_size=1766577, st_atime=1626102351, st_mtime=1625859315, st_ctime=1625859312)\n",
      "os.stat_result(st_mode=33206, st_ino=0, st_dev=0, st_nlink=0, st_uid=0, st_gid=0, st_size=1748480, st_atime=1615344502, st_mtime=1589456323, st_ctime=1589456322)\n",
      "os.stat_result(st_mode=33206, st_ino=0, st_dev=0, st_nlink=0, st_uid=0, st_gid=0, st_size=15795, st_atime=1615344502, st_mtime=1589546225, st_ctime=1589546225)\n",
      "os.stat_result(st_mode=33206, st_ino=0, st_dev=0, st_nlink=0, st_uid=0, st_gid=0, st_size=11557, st_atime=1626263958, st_mtime=1591018541, st_ctime=1591018541)\n",
      "os.stat_result(st_mode=33206, st_ino=0, st_dev=0, st_nlink=0, st_uid=0, st_gid=0, st_size=10443, st_atime=1615344501, st_mtime=1591994352, st_ctime=1591994351)\n",
      "os.stat_result(st_mode=33206, st_ino=0, st_dev=0, st_nlink=0, st_uid=0, st_gid=0, st_size=500375944, st_atime=1626264254, st_mtime=1625773974, st_ctime=1625773669)\n",
      "os.stat_result(st_mode=33206, st_ino=0, st_dev=0, st_nlink=0, st_uid=0, st_gid=0, st_size=1569595, st_atime=1621460011, st_mtime=1621460011, st_ctime=1621460011)\n",
      "os.stat_result(st_mode=33206, st_ino=0, st_dev=0, st_nlink=0, st_uid=0, st_gid=0, st_size=1552999, st_atime=1615344501, st_mtime=1589976602, st_ctime=1589976602)\n",
      "os.stat_result(st_mode=33206, st_ino=0, st_dev=0, st_nlink=0, st_uid=0, st_gid=0, st_size=3115045, st_atime=1625753565, st_mtime=1625672493, st_ctime=1625672492)\n",
      "os.stat_result(st_mode=33206, st_ino=0, st_dev=0, st_nlink=0, st_uid=0, st_gid=0, st_size=74834, st_atime=1615344501, st_mtime=1591886518, st_ctime=1591886517)\n",
      "os.stat_result(st_mode=33206, st_ino=0, st_dev=0, st_nlink=0, st_uid=0, st_gid=0, st_size=59463, st_atime=1626184539, st_mtime=1626181182, st_ctime=1626181182)\n",
      "os.stat_result(st_mode=33206, st_ino=0, st_dev=0, st_nlink=0, st_uid=0, st_gid=0, st_size=1877564, st_atime=1625831454, st_mtime=1592408496, st_ctime=1592408077)\n",
      "os.stat_result(st_mode=33206, st_ino=0, st_dev=0, st_nlink=0, st_uid=0, st_gid=0, st_size=613838, st_atime=1621473643, st_mtime=1621386080, st_ctime=1621386077)\n",
      "os.stat_result(st_mode=33206, st_ino=0, st_dev=0, st_nlink=0, st_uid=0, st_gid=0, st_size=900, st_atime=1615344501, st_mtime=1591010925, st_ctime=1591010925)\n",
      "os.stat_result(st_mode=33206, st_ino=0, st_dev=0, st_nlink=0, st_uid=0, st_gid=0, st_size=388742, st_atime=1625600301, st_mtime=1625600301, st_ctime=1625600300)\n",
      "os.stat_result(st_mode=33206, st_ino=0, st_dev=0, st_nlink=0, st_uid=0, st_gid=0, st_size=190698, st_atime=1626269530, st_mtime=1591990530, st_ctime=1591990529)\n",
      "os.stat_result(st_mode=33206, st_ino=0, st_dev=0, st_nlink=0, st_uid=0, st_gid=0, st_size=60342, st_atime=1615344501, st_mtime=1589887381, st_ctime=1589887381)\n",
      "os.stat_result(st_mode=33206, st_ino=0, st_dev=0, st_nlink=0, st_uid=0, st_gid=0, st_size=133111, st_atime=1615344501, st_mtime=1591019024, st_ctime=1591019023)\n",
      "os.stat_result(st_mode=33206, st_ino=0, st_dev=0, st_nlink=0, st_uid=0, st_gid=0, st_size=282501, st_atime=1615344501, st_mtime=1591643526, st_ctime=1591643525)\n",
      "os.stat_result(st_mode=33206, st_ino=0, st_dev=0, st_nlink=0, st_uid=0, st_gid=0, st_size=353804, st_atime=1615344501, st_mtime=1592485850, st_ctime=1592485849)\n",
      "os.stat_result(st_mode=33206, st_ino=0, st_dev=0, st_nlink=0, st_uid=0, st_gid=0, st_size=48011, st_atime=1615344501, st_mtime=1592837462, st_ctime=1592837388)\n",
      "os.stat_result(st_mode=33206, st_ino=0, st_dev=0, st_nlink=0, st_uid=0, st_gid=0, st_size=61414, st_atime=1615344501, st_mtime=1592417530, st_ctime=1592417530)\n",
      "os.stat_result(st_mode=33206, st_ino=0, st_dev=0, st_nlink=0, st_uid=0, st_gid=0, st_size=282, st_atime=1626268996, st_mtime=1615344316, st_ctime=1588873972)\n",
      "os.stat_result(st_mode=33206, st_ino=0, st_dev=0, st_nlink=0, st_uid=0, st_gid=0, st_size=458749, st_atime=1615344501, st_mtime=1591206164, st_ctime=1591206164)\n",
      "os.stat_result(st_mode=33206, st_ino=0, st_dev=0, st_nlink=0, st_uid=0, st_gid=0, st_size=56343, st_atime=1615344500, st_mtime=1592666640, st_ctime=1592666639)\n",
      "os.stat_result(st_mode=33206, st_ino=0, st_dev=0, st_nlink=0, st_uid=0, st_gid=0, st_size=62007, st_atime=1615344500, st_mtime=1592666982, st_ctime=1592666659)\n",
      "os.stat_result(st_mode=33206, st_ino=0, st_dev=0, st_nlink=0, st_uid=0, st_gid=0, st_size=62558, st_atime=1615344500, st_mtime=1592667330, st_ctime=1592667036)\n",
      "os.stat_result(st_mode=33206, st_ino=0, st_dev=0, st_nlink=0, st_uid=0, st_gid=0, st_size=308551, st_atime=1615344500, st_mtime=1591895027, st_ctime=1591895027)\n",
      "os.stat_result(st_mode=33206, st_ino=0, st_dev=0, st_nlink=0, st_uid=0, st_gid=0, st_size=2051089, st_atime=1622159846, st_mtime=1592828811, st_ctime=1592828811)\n",
      "os.stat_result(st_mode=33206, st_ino=0, st_dev=0, st_nlink=0, st_uid=0, st_gid=0, st_size=238078848, st_atime=1626251572, st_mtime=1590760642, st_ctime=1590760494)\n",
      "os.stat_result(st_mode=33206, st_ino=0, st_dev=0, st_nlink=0, st_uid=0, st_gid=0, st_size=1681304, st_atime=1626185375, st_mtime=1618322353, st_ctime=1618322353)\n",
      "os.stat_result(st_mode=33206, st_ino=0, st_dev=0, st_nlink=0, st_uid=0, st_gid=0, st_size=1568031, st_atime=1615344500, st_mtime=1591990308, st_ctime=1591990308)\n",
      "os.stat_result(st_mode=33206, st_ino=0, st_dev=0, st_nlink=0, st_uid=0, st_gid=0, st_size=45003, st_atime=1615344500, st_mtime=1589234062, st_ctime=1589233574)\n",
      "os.stat_result(st_mode=33206, st_ino=0, st_dev=0, st_nlink=0, st_uid=0, st_gid=0, st_size=80066, st_atime=1615344500, st_mtime=1592588914, st_ctime=1592588914)\n",
      "os.stat_result(st_mode=33206, st_ino=0, st_dev=0, st_nlink=0, st_uid=0, st_gid=0, st_size=12783616, st_atime=1615344500, st_mtime=1589242901, st_ctime=1589242889)\n",
      "os.stat_result(st_mode=33206, st_ino=0, st_dev=0, st_nlink=0, st_uid=0, st_gid=0, st_size=28749251, st_atime=1626185375, st_mtime=1618338395, st_ctime=1618338357)\n",
      "os.stat_result(st_mode=33206, st_ino=0, st_dev=0, st_nlink=0, st_uid=0, st_gid=0, st_size=42820112, st_atime=1626185376, st_mtime=1618339224, st_ctime=1618339187)\n",
      "os.stat_result(st_mode=33206, st_ino=0, st_dev=0, st_nlink=0, st_uid=0, st_gid=0, st_size=166202, st_atime=1615344500, st_mtime=1591208916, st_ctime=1591208916)\n",
      "os.stat_result(st_mode=33206, st_ino=0, st_dev=0, st_nlink=0, st_uid=0, st_gid=0, st_size=2586170, st_atime=1615344500, st_mtime=1591041537, st_ctime=1591041536)\n",
      "os.stat_result(st_mode=33206, st_ino=0, st_dev=0, st_nlink=0, st_uid=0, st_gid=0, st_size=14776, st_atime=1615344499, st_mtime=1592309511, st_ctime=1592309510)\n",
      "os.stat_result(st_mode=33206, st_ino=0, st_dev=0, st_nlink=0, st_uid=0, st_gid=0, st_size=1996773, st_atime=1615344499, st_mtime=1592309658, st_ctime=1592309658)\n",
      "os.stat_result(st_mode=33206, st_ino=0, st_dev=0, st_nlink=0, st_uid=0, st_gid=0, st_size=504404, st_atime=1615344499, st_mtime=1589302134, st_ctime=1589302133)\n",
      "os.stat_result(st_mode=33206, st_ino=0, st_dev=0, st_nlink=0, st_uid=0, st_gid=0, st_size=275003, st_atime=1615344499, st_mtime=1592588829, st_ctime=1592588829)\n",
      "os.stat_result(st_mode=33206, st_ino=0, st_dev=0, st_nlink=0, st_uid=0, st_gid=0, st_size=1295576, st_atime=1626251572, st_mtime=1589233209, st_ctime=1589233208)\n",
      "os.stat_result(st_mode=33206, st_ino=0, st_dev=0, st_nlink=0, st_uid=0, st_gid=0, st_size=4030265, st_atime=1615344499, st_mtime=1590003367, st_ctime=1590003367)\n",
      "os.stat_result(st_mode=33206, st_ino=0, st_dev=0, st_nlink=0, st_uid=0, st_gid=0, st_size=79800376, st_atime=1626251572, st_mtime=1589549523, st_ctime=1589549471)\n",
      "os.stat_result(st_mode=33206, st_ino=0, st_dev=0, st_nlink=0, st_uid=0, st_gid=0, st_size=347734, st_atime=1615344499, st_mtime=1592564313, st_ctime=1592564312)\n",
      "os.stat_result(st_mode=33206, st_ino=0, st_dev=0, st_nlink=0, st_uid=0, st_gid=0, st_size=1186497, st_atime=1615344498, st_mtime=1592313470, st_ctime=1592313470)\n",
      "os.stat_result(st_mode=33206, st_ino=0, st_dev=0, st_nlink=0, st_uid=0, st_gid=0, st_size=3394, st_atime=1615344498, st_mtime=1591969495, st_ctime=1591969495)\n",
      "os.stat_result(st_mode=33206, st_ino=0, st_dev=0, st_nlink=0, st_uid=0, st_gid=0, st_size=876, st_atime=1615344498, st_mtime=1591969522, st_ctime=1591969522)\n",
      "os.stat_result(st_mode=33206, st_ino=0, st_dev=0, st_nlink=0, st_uid=0, st_gid=0, st_size=876, st_atime=1615344498, st_mtime=1591971627, st_ctime=1591971627)\n",
      "os.stat_result(st_mode=33206, st_ino=0, st_dev=0, st_nlink=0, st_uid=0, st_gid=0, st_size=987, st_atime=1615344498, st_mtime=1591972000, st_ctime=1591972000)\n",
      "os.stat_result(st_mode=33206, st_ino=0, st_dev=0, st_nlink=0, st_uid=0, st_gid=0, st_size=4147, st_atime=1615344498, st_mtime=1592307734, st_ctime=1592247264)\n",
      "os.stat_result(st_mode=33206, st_ino=0, st_dev=0, st_nlink=0, st_uid=0, st_gid=0, st_size=46969, st_atime=1615344498, st_mtime=1592503704, st_ctime=1592503618)\n",
      "os.stat_result(st_mode=33206, st_ino=0, st_dev=0, st_nlink=0, st_uid=0, st_gid=0, st_size=700607, st_atime=1615344498, st_mtime=1592503779, st_ctime=1592503779)\n",
      "os.stat_result(st_mode=33206, st_ino=0, st_dev=0, st_nlink=0, st_uid=0, st_gid=0, st_size=343310, st_atime=1615344498, st_mtime=1592504014, st_ctime=1592504014)\n",
      "os.stat_result(st_mode=33206, st_ino=0, st_dev=0, st_nlink=0, st_uid=0, st_gid=0, st_size=2762, st_atime=1615344498, st_mtime=1591896737, st_ctime=1591896737)\n",
      "os.stat_result(st_mode=33206, st_ino=0, st_dev=0, st_nlink=0, st_uid=0, st_gid=0, st_size=6226, st_atime=1618248804, st_mtime=1591931216, st_ctime=1591931215)\n",
      "os.stat_result(st_mode=33206, st_ino=0, st_dev=0, st_nlink=0, st_uid=0, st_gid=0, st_size=458752, st_atime=1615344498, st_mtime=1591041977, st_ctime=1591041977)\n",
      "os.stat_result(st_mode=33206, st_ino=0, st_dev=0, st_nlink=0, st_uid=0, st_gid=0, st_size=580947, st_atime=1625753309, st_mtime=1625753309, st_ctime=1625753309)\n",
      "os.stat_result(st_mode=33206, st_ino=0, st_dev=0, st_nlink=0, st_uid=0, st_gid=0, st_size=1057399, st_atime=1625753564, st_mtime=1625672175, st_ctime=1625672175)\n",
      "os.stat_result(st_mode=33206, st_ino=0, st_dev=0, st_nlink=0, st_uid=0, st_gid=0, st_size=2989427, st_atime=1615344498, st_mtime=1591195515, st_ctime=1591195513)\n",
      "os.stat_result(st_mode=33206, st_ino=0, st_dev=0, st_nlink=0, st_uid=0, st_gid=0, st_size=173076, st_atime=1620312467, st_mtime=1620312467, st_ctime=1620312467)\n",
      "os.stat_result(st_mode=33206, st_ino=0, st_dev=0, st_nlink=0, st_uid=0, st_gid=0, st_size=66743006, st_atime=1625831454, st_mtime=1591640447, st_ctime=1591640408)\n",
      "os.stat_result(st_mode=33206, st_ino=0, st_dev=0, st_nlink=0, st_uid=0, st_gid=0, st_size=62227, st_atime=1615344497, st_mtime=1589976625, st_ctime=1589976625)\n",
      "os.stat_result(st_mode=33206, st_ino=0, st_dev=0, st_nlink=0, st_uid=0, st_gid=0, st_size=191553, st_atime=1625831454, st_mtime=1592312088, st_ctime=1592312087)\n",
      "os.stat_result(st_mode=33206, st_ino=0, st_dev=0, st_nlink=0, st_uid=0, st_gid=0, st_size=1374125, st_atime=1615344497, st_mtime=1591898774, st_ctime=1591898773)\n",
      "os.stat_result(st_mode=33206, st_ino=0, st_dev=0, st_nlink=0, st_uid=0, st_gid=0, st_size=1895686, st_atime=1615344496, st_mtime=1590415403, st_ctime=1590415403)\n",
      "os.stat_result(st_mode=33206, st_ino=0, st_dev=0, st_nlink=0, st_uid=0, st_gid=0, st_size=178731, st_atime=1621473643, st_mtime=1621386807, st_ctime=1621386804)\n",
      "os.stat_result(st_mode=33206, st_ino=0, st_dev=0, st_nlink=0, st_uid=0, st_gid=0, st_size=770048, st_atime=1622159846, st_mtime=1605805176, st_ctime=1605805174)\n",
      "os.stat_result(st_mode=33206, st_ino=0, st_dev=0, st_nlink=0, st_uid=0, st_gid=0, st_size=49267712, st_atime=1615344496, st_mtime=1591272730, st_ctime=1591272705)\n",
      "os.stat_result(st_mode=33206, st_ino=0, st_dev=0, st_nlink=0, st_uid=0, st_gid=0, st_size=1244102, st_atime=1625642527, st_mtime=1624643872, st_ctime=1624643871)\n",
      "os.stat_result(st_mode=33206, st_ino=0, st_dev=0, st_nlink=0, st_uid=0, st_gid=0, st_size=26709944, st_atime=1626251573, st_mtime=1588875283, st_ctime=1588875279)\n",
      "os.stat_result(st_mode=33206, st_ino=0, st_dev=0, st_nlink=0, st_uid=0, st_gid=0, st_size=19815, st_atime=1625831454, st_mtime=1592230635, st_ctime=1592230634)\n",
      "os.stat_result(st_mode=33206, st_ino=0, st_dev=0, st_nlink=0, st_uid=0, st_gid=0, st_size=1858, st_atime=1615344496, st_mtime=1591972690, st_ctime=1591972690)\n",
      "os.stat_result(st_mode=33206, st_ino=0, st_dev=0, st_nlink=0, st_uid=0, st_gid=0, st_size=431, st_atime=1615344496, st_mtime=1591972447, st_ctime=1591972447)\n",
      "os.stat_result(st_mode=33206, st_ino=0, st_dev=0, st_nlink=0, st_uid=0, st_gid=0, st_size=64442654, st_atime=1618337215, st_mtime=1590765070, st_ctime=1590765028)\n",
      "os.stat_result(st_mode=33206, st_ino=0, st_dev=0, st_nlink=0, st_uid=0, st_gid=0, st_size=849, st_atime=1622159846, st_mtime=1618248991, st_ctime=1618248963)\n",
      "os.stat_result(st_mode=33206, st_ino=0, st_dev=0, st_nlink=0, st_uid=0, st_gid=0, st_size=89464, st_atime=1625756770, st_mtime=1625756757, st_ctime=1625756757)\n",
      "os.stat_result(st_mode=33206, st_ino=0, st_dev=0, st_nlink=0, st_uid=0, st_gid=0, st_size=1456717, st_atime=1621473557, st_mtime=1621369007, st_ctime=1621369006)\n",
      "os.stat_result(st_mode=33206, st_ino=0, st_dev=0, st_nlink=0, st_uid=0, st_gid=0, st_size=4147600, st_atime=1626251573, st_mtime=1589219720, st_ctime=1589219717)\n",
      "os.stat_result(st_mode=33206, st_ino=0, st_dev=0, st_nlink=0, st_uid=0, st_gid=0, st_size=31921297, st_atime=1618342567, st_mtime=1618342567, st_ctime=1618342554)\n",
      "os.stat_result(st_mode=33206, st_ino=0, st_dev=0, st_nlink=0, st_uid=0, st_gid=0, st_size=433685, st_atime=1623190819, st_mtime=1621506800, st_ctime=1621506800)\n",
      "os.stat_result(st_mode=33206, st_ino=0, st_dev=0, st_nlink=0, st_uid=0, st_gid=0, st_size=176767, st_atime=1591272632, st_mtime=1591272632, st_ctime=1591272631)\n",
      "os.stat_result(st_mode=33206, st_ino=0, st_dev=0, st_nlink=0, st_uid=0, st_gid=0, st_size=1750737, st_atime=1618337384, st_mtime=1591272650, st_ctime=1591272649)\n"
     ]
    }
   ],
   "source": [
    "fp = os.scandir()\n",
    "for i in fp:\n",
    "    print(i.stat())"
   ]
  },
  {
   "cell_type": "code",
   "execution_count": 43,
   "id": "eb2767aa",
   "metadata": {},
   "outputs": [
    {
     "name": "stdout",
     "output_type": "stream",
     "text": [
      "06ac624fedf0.pdf\n",
      "0900766b815bb5de.pdf\n",
      "1.pdf\n",
      "11365-01 User Manual for Jig Focus Camera.docx\n",
      "222-EN.pdf\n",
      "410pdf-emc-problems-and-solutions.pdf\n",
      "42hs40-1684.pdf\n",
      "51140-installation-instructions.pdf\n",
      "7z1900-x64.msi\n",
      "Accuracy tool - R&R test plan draft.docx\n",
      "Accuracy tool. need all product specification and requirement.eml\n",
      "activity.pdf\n",
      "Anaconda3-2021.05-Windows-x86_64.exe\n",
      "Aucoq_AprilJune2021_DigitalWeb_-MENU.pdf\n",
      "B-Primaire6_18052020.pdf\n",
      "ca-310_instruction_eng.pdf\n",
      "Calendrier 2020.pdf\n",
      "calendrier-zone-d-7moins.pdf\n",
      "camera.zip\n",
      "cd00000240-1795236.pdf\n",
      "contacts (1).csv\n",
      "Contract_59585658.pdf\n",
      "covid19.pdf\n",
      "d1eaf1b80307.pdf\n",
      "Dental Wings Mail - Accuracy tool. need all product specification and requirement.pdf\n",
      "DES73-2379 IOS Product Requirement Specification (v3.1)_Next release.docx\n",
      "DES73-4269 HP3 Mechanical Assembly Upgrade Verification Specification (v1.0)_Reviewed (1).docx\n",
      "DES73-4273 HP3 Calibration Verification Specification after Mech Assy Upgrade & Temp Cycling (v1.0)_NextRelease_LT.docx\n",
      "DES73-4277 HP3 Mechanical Assembly Upgrade Transport Thermal Verification Specification (v1.0)_Next Release (2) (2).docx\n",
      "desktop.ini\n",
      "DEX73-4268 Pull test calibration verification Report (v1.0)_Next Release.docx\n",
      "DEX73-4274 HP3 Calibration Verification Report after Mech Assy Upgrade & Temp Cycling (v1.0)_NextRelease_LT.docx\n",
      "DEX73-4276 HP3 Mechanical Assembly Upgrade Arch Scan Verification Report (v1.0)_NextRelease_LT.docx\n",
      "DEX73-4278 HP3 Mechanical Assembly Upgrade Transport Thermal Verification Report (v1.0)_Next Release_LT.docx\n",
      "document.pdf\n",
      "drop test.mp4\n",
      "eDrawingsFullAllX64.exe\n",
      "Everything-1.4.1.1005.x64-Setup.exe\n",
      "Feuillet Campeur COVID-12 juin 2020.pdf\n",
      "Fiche d'embauche Eng-Fr rempli.docx\n",
      "free fall.jpg\n",
      "FreeCommanderXE-32-public_810a.msi\n",
      "FreeMind-Windows-Installer-1.0.1-min.exe\n",
      "Freeplane-Setup-1.8.11.exe\n",
      "hk_torquedatachart.pdf\n",
      "HP3 Focus Report 2020-04-06 - Graph - FM.pdf\n",
      "HP3 Nouveau tiroir de plastique (raccourcis de 1mm).eml\n",
      "HP3 Nouveau tiroir de plastique (raccourcis de 1mm).jpg\n",
      "IMG_20200512_115045.jpg\n",
      "IMG_20200619_134613.jpg\n",
      "installbackupandsync.exe\n",
      "Livescribe_3_Basics_Guide.pdf\n",
      "LogiCameraSettings_2.3.117.exe\n",
      "Martin Carufel 2e prise.pdf\n",
      "MARTIN_CARUFEL_Signature_électronique_dIG_G.pdf\n",
      "master (1).csv\n",
      "master (2).csv\n",
      "master (3).csv\n",
      "master (4).csv\n",
      "master (5).csv\n",
      "master (6).csv\n",
      "master (7).csv\n",
      "master (8).csv\n",
      "master.csv\n",
      "master.xml\n",
      "Mechnical Assembly Upgrade 01 June 2020 Draft v03.mpp\n",
      "MI-21-13037 -am-mc.pdf\n",
      "minolta-ca-310_datasheet.pdf\n",
      "new focus scores and exposure adjustment.pdf\n",
      "Onboarding agenda Vidian.pdf\n",
      "original pictures.zip\n",
      "PJ-Lettre-SE-2-adap-accueil.pdf\n",
      "redoccreationforhp3upgradetestspecandreport_.zip\n",
      "sd-6020-manual.pdf\n",
      "slva892a.pdf\n",
      "SM-42BYG011-25.pdf\n",
      "SnakeTail.v1.9.6.x64.msi\n",
      "SOLIDWORKS Document Manager API.msi\n",
      "STI75-4426 Virtuo Vivo – Laptop Installation Instructions (v1.0) (ID 11786).pdf\n",
      "TeamViewer_Setup.exe\n",
      "testrail-api-master.zip\n",
      "test_run_27_04_2020 (1).csv\n",
      "test_run_27_04_2020.csv\n",
      "TLG-MA3201-004-01.EASM\n",
      "TortoiseGit-2.12.0.0-64bit.msi.rsa.asc\n",
      "Training (1).pdf\n",
      "uln2003a.pdf\n",
      "unifying250.exe\n",
      "UR3_Service_Manual_en.pdf\n",
      "vibrating-tables-for-industry.pdf\n",
      "VIS-PF3211-001.SLDDRW\n",
      "VIS-PF3211-001.SLDPRT\n"
     ]
    }
   ],
   "source": [
    "fp = os.scandir()\n",
    "while True:\n",
    "    try:\n",
    " \n",
    "        # Iterate by calling next\n",
    "        item = next(fp)\n",
    "        print(item.name)\n",
    "    except StopIteration:\n",
    " \n",
    "        # exception will happen when iteration will over\n",
    "        break"
   ]
  },
  {
   "cell_type": "code",
   "execution_count": 59,
   "id": "98d75e67",
   "metadata": {},
   "outputs": [
    {
     "data": {
      "text/plain": [
       "'C:\\\\Users\\\\mcarufel\\\\AppData\\\\Roaming\\\\jupyter\\\\runtime\\\\kernel-8f06bd5e-9b3e-4506-b71b-bc0f9e6aa4f6.json'"
      ]
     },
     "execution_count": 59,
     "metadata": {},
     "output_type": "execute_result"
    }
   ],
   "source": [
    "import sys\n",
    "sys.argv[2]"
   ]
  },
  {
   "cell_type": "code",
   "execution_count": 60,
   "id": "73f1fc0d",
   "metadata": {},
   "outputs": [
    {
     "name": "stdout",
     "output_type": "stream",
     "text": [
      "C:\\Users\\mcarufel\\anaconda3\\lib\\site-packages\\ipykernel_launcher.py\n",
      "-f\n",
      "C:\\Users\\mcarufel\\AppData\\Roaming\\jupyter\\runtime\\kernel-8f06bd5e-9b3e-4506-b71b-bc0f9e6aa4f6.json\n"
     ]
    }
   ],
   "source": [
    "for arg in sys.argv:\n",
    "    print(arg)"
   ]
  },
  {
   "cell_type": "code",
   "execution_count": 61,
   "id": "acb77302",
   "metadata": {},
   "outputs": [],
   "source": [
    "import shutil"
   ]
  },
  {
   "cell_type": "code",
   "execution_count": 62,
   "id": "39caf9a1",
   "metadata": {},
   "outputs": [
    {
     "data": {
      "text/plain": [
       "usage(total=479425720320, used=147041386496, free=332384333824)"
      ]
     },
     "execution_count": 62,
     "metadata": {},
     "output_type": "execute_result"
    }
   ],
   "source": [
    "shutil.disk_usage(\"c:\")"
   ]
  },
  {
   "cell_type": "code",
   "execution_count": 63,
   "id": "76bfcbce",
   "metadata": {},
   "outputs": [
    {
     "data": {
      "text/plain": [
       "'Windows_NT'"
      ]
     },
     "execution_count": 63,
     "metadata": {},
     "output_type": "execute_result"
    }
   ],
   "source": [
    "os.getenv(\"OS\")"
   ]
  },
  {
   "cell_type": "code",
   "execution_count": 64,
   "id": "177e4df9",
   "metadata": {},
   "outputs": [
    {
     "data": {
      "text/plain": [
       "'C:\\\\ProgramData\\\\chocolatey'"
      ]
     },
     "execution_count": 64,
     "metadata": {},
     "output_type": "execute_result"
    }
   ],
   "source": [
    "os.getenv(\"ChocolateyInstall\")"
   ]
  },
  {
   "cell_type": "code",
   "execution_count": 65,
   "id": "8ea3398a",
   "metadata": {},
   "outputs": [
    {
     "data": {
      "text/plain": [
       "'mcarufel'"
      ]
     },
     "execution_count": 65,
     "metadata": {},
     "output_type": "execute_result"
    }
   ],
   "source": [
    "os.getlogin()"
   ]
  },
  {
   "cell_type": "code",
   "execution_count": 66,
   "id": "35b6a82a",
   "metadata": {},
   "outputs": [
    {
     "data": {
      "text/plain": [
       "<module 'os' from 'C:\\\\Users\\\\mcarufel\\\\anaconda3\\\\lib\\\\os.py'>"
      ]
     },
     "execution_count": 66,
     "metadata": {},
     "output_type": "execute_result"
    }
   ],
   "source": [
    "os"
   ]
  },
  {
   "cell_type": "code",
   "execution_count": 71,
   "id": "fc3bc04a",
   "metadata": {},
   "outputs": [],
   "source": [
    "os.putenv(\"key_test\",\"new value\")"
   ]
  },
  {
   "cell_type": "code",
   "execution_count": 72,
   "id": "a9a9565d",
   "metadata": {},
   "outputs": [],
   "source": [
    "os.getenv(\"key_test\")"
   ]
  },
  {
   "cell_type": "code",
   "execution_count": null,
   "id": "7d13b53c",
   "metadata": {},
   "outputs": [],
   "source": []
  }
 ],
 "metadata": {
  "kernelspec": {
   "display_name": "Python 3",
   "language": "python",
   "name": "python3"
  },
  "language_info": {
   "codemirror_mode": {
    "name": "ipython",
    "version": 3
   },
   "file_extension": ".py",
   "mimetype": "text/x-python",
   "name": "python",
   "nbconvert_exporter": "python",
   "pygments_lexer": "ipython3",
   "version": "3.8.8"
  }
 },
 "nbformat": 4,
 "nbformat_minor": 5
}
