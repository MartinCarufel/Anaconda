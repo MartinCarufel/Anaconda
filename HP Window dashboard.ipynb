{
 "cells": [
  {
   "cell_type": "code",
   "execution_count": 1,
   "id": "4565b009",
   "metadata": {},
   "outputs": [],
   "source": [
    "import pandas as pd\n",
    "import matplotlib.pyplot as plt\n",
    "import numpy as np"
   ]
  },
  {
   "cell_type": "code",
   "execution_count": 7,
   "id": "47cae8eb",
   "metadata": {},
   "outputs": [],
   "source": [
    "df = pd.DataFrame(data={\"Results\":[\"Pass\", \"Fail\", \"Not Run\"], \"Nb\":[9, 2, 1]})"
   ]
  },
  {
   "cell_type": "code",
   "execution_count": 23,
   "id": "60fa7c4e",
   "metadata": {},
   "outputs": [
    {
     "data": {
      "text/plain": [
       "[]"
      ]
     },
     "execution_count": 23,
     "metadata": {},
     "output_type": "execute_result"
    },
    {
     "data": {
      "image/png": "[encoded data removed]",
      "text/plain": [
       "<Figure size 432x288 with 1 Axes>"
      ]
     },
     "metadata": {},
     "output_type": "display_data"
    }
   ],
   "source": [
    "explode = (0.1, 0.0, 0.1) \n",
    "plt.pie(df[\"Nb\"], labels=df[\"Results\"], colors=[\"g\", \"r\", \"grey\"], autopct='%1.1f%%', startangle=90)\n",
    "plt.title(\"HP Window Hwr Test\")\n",
    "plt.savefig(\"figure1.png\", bbox_inches=\"tight\")\n",
    "plt.plot()"
   ]
  },
  {
   "cell_type": "code",
   "execution_count": null,
   "id": "4f1923fc",
   "metadata": {},
   "outputs": [],
   "source": []
  }
 ],
 "metadata": {
  "kernelspec": {
   "display_name": "Python 3",
   "language": "python",
   "name": "python3"
  },
  "language_info": {
   "codemirror_mode": {
    "name": "ipython",
    "version": 3
   },
   "file_extension": ".py",
   "mimetype": "text/x-python",
   "name": "python",
   "nbconvert_exporter": "python",
   "pygments_lexer": "ipython3",
   "version": "3.8.8"
  }
 },
 "nbformat": 4,
 "nbformat_minor": 5
}
