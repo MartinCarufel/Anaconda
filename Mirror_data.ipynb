{
 "cells": [
  {
   "cell_type": "code",
   "execution_count": 1,
   "id": "fb943385",
   "metadata": {},
   "outputs": [],
   "source": [
    "import pandas as pd\n",
    "import numpy as np\n",
    "from statistics import mean"
   ]
  },
  {
   "cell_type": "code",
   "execution_count": 2,
   "id": "54621c81",
   "metadata": {
    "scrolled": true
   },
   "outputs": [],
   "source": [
    "df = pd.read_excel(\"C:/Users/mcarufel/Documents/Github/Anaconda/Mirror_temp/HP Temperature profile at 15C.xlsx\")"
   ]
  },
  {
   "cell_type": "code",
   "execution_count": 3,
   "id": "892b5b38",
   "metadata": {},
   "outputs": [],
   "source": [
    "col_list = df.columns\n",
    "hp_sn = []\n",
    "for i in col_list:\n",
    "    if i[-4:] not in hp_sn:\n",
    "        hp_sn.append(i[-4:])\n"
   ]
  },
  {
   "cell_type": "code",
   "execution_count": 4,
   "id": "1d18129f",
   "metadata": {},
   "outputs": [],
   "source": [
    "for i in col_list:\n",
    "    if i.startswith(\"temp\"):\n",
    "        data = df[i]\n",
    "        data_mean = []\n",
    "        for data_id in range(len(data)):\n",
    "            if data_id < 10:\n",
    "                data_mean.append(np.nan)\n",
    "            else:\n",
    "                data_mean.append(mean(data[data_id-10:data_id]))\n",
    "        \n",
    "        df2 = pd.DataFrame({\"avg\"+ i[-4:]:data_mean})\n",
    "        df = pd.concat([df,df2], axis=1)\n",
    "      "
   ]
  },
  {
   "cell_type": "code",
   "execution_count": 5,
   "id": "0f7755bb",
   "metadata": {},
   "outputs": [],
   "source": [
    "df.to_csv(\"export.csv\")"
   ]
  },
  {
   "cell_type": "code",
   "execution_count": 16,
   "id": "f04fb7f7",
   "metadata": {},
   "outputs": [],
   "source": [
    "initial_val_list = []\n",
    "min_avg_val_list = []\n",
    "for i in hp_sn:\n",
    "    min_avg_val_list.append(df.loc[(df[\"time\"+i]>=10) & (df[\"time\"+i]<=240), \"avg\"+i].min())\n",
    "\n",
    "test_result = []\n",
    "difference = []\n",
    "for t in range(len(min_avg_val_list)):\n",
    "    difference.append(min_avg_val_list[t]-initial_val_list[t])\n",
    "    if difference[t] >= -0.1:\n",
    "        test_result.append(\"Pass\")\n",
    "    else:\n",
    "        test_result.append(\"Fail\")\n",
    "\n",
    "sumarry_table = pd.DataFrame({\"initial Value\":initial_val_list, \"Min avg\": min_avg_val_list,\"Delta\": difference, \n",
    "                              \"Result\":test_result}, index=hp_sn)\n",
    "\n",
    "sumarry_table.to_csv(\"sumarry.csv\")"
   ]
  },
  {
   "cell_type": "code",
   "execution_count": null,
   "id": "f6499631",
   "metadata": {},
   "outputs": [],
   "source": []
  }
 ],
 "metadata": {
  "kernelspec": {
   "display_name": "Python 3",
   "language": "python",
   "name": "python3"
  },
  "language_info": {
   "codemirror_mode": {
    "name": "ipython",
    "version": 3
   },
   "file_extension": ".py",
   "mimetype": "text/x-python",
   "name": "python",
   "nbconvert_exporter": "python",
   "pygments_lexer": "ipython3",
   "version": "3.8.8"
  }
 },
 "nbformat": 4,
 "nbformat_minor": 5
}
