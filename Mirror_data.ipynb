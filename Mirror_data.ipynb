{
 "cells": [
  {
   "cell_type": "code",
   "execution_count": 1,
   "id": "fb943385",
   "metadata": {},
   "outputs": [],
   "source": [
    "import pandas as pd\n",
    "import numpy as np\n",
    "from statistics import mean"
   ]
  },
  {
   "cell_type": "code",
   "execution_count": 2,
   "id": "54621c81",
   "metadata": {
    "scrolled": true
   },
   "outputs": [],
   "source": [
    "df = pd.read_excel(\"C:/Users/mcarufel/Documents/Github/Anaconda/Mirror_temp/HP Temperature profile at 15C - Copy.xlsx\")"
   ]
  },
  {
   "cell_type": "code",
   "execution_count": 3,
   "id": "892b5b38",
   "metadata": {},
   "outputs": [],
   "source": [
    "# col_list = df.columns\n",
    "# hp_sn = []\n",
    "# for i in col_list:\n",
    "#     if i[-4:] not in hp_sn:\n",
    "#         hp_sn.append(i[-4:])\n"
   ]
  },
  {
   "cell_type": "code",
   "execution_count": 4,
   "id": "c61e6930",
   "metadata": {},
   "outputs": [
    {
     "name": "stdout",
     "output_type": "stream",
     "text": [
      "['1905', '1906', '1772', '1692', '1875', '1230', '1835', '1797', '1862', '1870', '1780', '1885', '1839', '1816', '1809', '1848', '1808', '1883', '1899', '1812', '729', '1465', '1630', '2759', '2763', '2855']\n"
     ]
    }
   ],
   "source": [
    "col_list = df.columns\n",
    "hp_sn = []\n",
    "\n",
    "for col_name in col_list:\n",
    "    serial = []\n",
    "    for i in col_name:\n",
    "        if i.isdigit():\n",
    "            serial.append(i)\n",
    "    serial_str = \"\".join(serial)        \n",
    "    if serial_str not in hp_sn:\n",
    "        hp_sn.append(serial_str)\n",
    "print(hp_sn)"
   ]
  },
  {
   "cell_type": "code",
   "execution_count": 5,
   "id": "1d18129f",
   "metadata": {},
   "outputs": [],
   "source": [
    "for i in col_list:\n",
    "    if i.startswith(\"temp\"):\n",
    "        data = df[i]\n",
    "        data_mean = []\n",
    "        for data_id in range(len(data)):\n",
    "            if data_id < 10:\n",
    "                data_mean.append(np.nan)\n",
    "            else:\n",
    "                data_mean.append(mean(data[data_id-10:data_id]))\n",
    "        \n",
    "        df2 = pd.DataFrame({\"avg\"+ i[4:]:data_mean})\n",
    "        df = pd.concat([df,df2], axis=1)\n",
    "      "
   ]
  },
  {
   "cell_type": "code",
   "execution_count": 6,
   "id": "0f7755bb",
   "metadata": {},
   "outputs": [],
   "source": [
    "df.to_csv(\"export.csv\")"
   ]
  },
  {
   "cell_type": "code",
   "execution_count": 12,
   "id": "f04fb7f7",
   "metadata": {},
   "outputs": [],
   "source": [
    "initial_val_list = []\n",
    "min_avg_val_list = []\n",
    "for i in hp_sn:\n",
    "    min_avg_val_list.append(df[(df[\"time\"+i]>=10) & (df[\"time\"+i]<=240)][\"avg\"+i].values[0])\n",
    "    initial_val_list.append(df[df[\"time\"+i]==0][\"temp\"+i].values[0])\n",
    "                            \n",
    "    df.min\n",
    "test_result = []\n",
    "difference = []\n",
    "# print(len(initial_val_list))\n",
    "# print(len(min_avg_val_list))\n",
    "# print(initial_val_list)\n",
    "# print(min_avg_val_list)\n",
    "for t in range(len(min_avg_val_list)):\n",
    "    delta = (min_avg_val_list[t])-(initial_val_list[t])\n",
    "    difference.append(delta)\n",
    "    if delta >= -0.1:\n",
    "        test_result.append(\"Pass\")\n",
    "    else:\n",
    "        test_result.append(\"Fail\")\n",
    "\n",
    "sumarry_table = pd.DataFrame({\"initial Value\":initial_val_list, \"Min avg\": min_avg_val_list,\"Delta\": difference, \n",
    "                              \"Result\":test_result}, index=hp_sn)\n",
    "\n",
    "sumarry_table.to_csv(\"sumarry.csv\")"
   ]
  },
  {
   "cell_type": "code",
   "execution_count": null,
   "id": "f6499631",
   "metadata": {},
   "outputs": [],
   "source": []
  }
 ],
 "metadata": {
  "kernelspec": {
   "display_name": "Python 3",
   "language": "python",
   "name": "python3"
  },
  "language_info": {
   "codemirror_mode": {
    "name": "ipython",
    "version": 3
   },
   "file_extension": ".py",
   "mimetype": "text/x-python",
   "name": "python",
   "nbconvert_exporter": "python",
   "pygments_lexer": "ipython3",
   "version": "3.8.8"
  }
 },
 "nbformat": 4,
 "nbformat_minor": 5
}
