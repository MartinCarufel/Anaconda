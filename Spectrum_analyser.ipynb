{
 "cells": [
  {
   "cell_type": "code",
   "execution_count": 7,
   "id": "fd7bc880",
   "metadata": {},
   "outputs": [],
   "source": [
    "from tkinter import filedialog\n",
    "import pandas as pd"
   ]
  },
  {
   "cell_type": "code",
   "execution_count": 5,
   "id": "d5137a86",
   "metadata": {},
   "outputs": [],
   "source": [
    "file_path = filedialog.askopenfilename()"
   ]
  },
  {
   "cell_type": "code",
   "execution_count": 35,
   "id": "d4e06e57",
   "metadata": {},
   "outputs": [],
   "source": [
    "df = pd.read_table(file_path ,skiprows=8)\n",
    "df = df.drop(columns=['Time (s):  / Midband frequencies'])\n"
   ]
  },
  {
   "cell_type": "code",
   "execution_count": 55,
   "id": "a38258b8",
   "metadata": {},
   "outputs": [],
   "source": [
    "mean = df.mean(axis=0, )\n",
    "mean = pd.DataFrame(mean, columns=[\"dBA\"])\n"
   ]
  },
  {
   "cell_type": "code",
   "execution_count": 48,
   "id": "8cc622f8",
   "metadata": {},
   "outputs": [
    {
     "data": {
      "text/html": [
       "<div>\n",
       "<style scoped>\n",
       "    .dataframe tbody tr th:only-of-type {\n",
       "        vertical-align: middle;\n",
       "    }\n",
       "\n",
       "    .dataframe tbody tr th {\n",
       "        vertical-align: top;\n",
       "    }\n",
       "\n",
       "    .dataframe thead th {\n",
       "        text-align: right;\n",
       "    }\n",
       "</style>\n",
       "<table border=\"1\" class=\"dataframe\">\n",
       "  <thead>\n",
       "    <tr style=\"text-align: right;\">\n",
       "      <th></th>\n",
       "      <th>dBA</th>\n",
       "    </tr>\n",
       "  </thead>\n",
       "  <tbody>\n",
       "    <tr>\n",
       "      <th>25 Hz</th>\n",
       "      <td>-33.382154</td>\n",
       "    </tr>\n",
       "    <tr>\n",
       "      <th>31.5 Hz</th>\n",
       "      <td>-23.610462</td>\n",
       "    </tr>\n",
       "    <tr>\n",
       "      <th>40 Hz</th>\n",
       "      <td>-8.658431</td>\n",
       "    </tr>\n",
       "    <tr>\n",
       "      <th>50 Hz</th>\n",
       "      <td>6.305662</td>\n",
       "    </tr>\n",
       "    <tr>\n",
       "      <th>63 Hz</th>\n",
       "      <td>17.544277</td>\n",
       "    </tr>\n",
       "    <tr>\n",
       "      <th>80 Hz</th>\n",
       "      <td>19.442554</td>\n",
       "    </tr>\n",
       "    <tr>\n",
       "      <th>100 Hz</th>\n",
       "      <td>16.578431</td>\n",
       "    </tr>\n",
       "    <tr>\n",
       "      <th>125 Hz</th>\n",
       "      <td>20.533662</td>\n",
       "    </tr>\n",
       "    <tr>\n",
       "      <th>160 Hz</th>\n",
       "      <td>23.010092</td>\n",
       "    </tr>\n",
       "    <tr>\n",
       "      <th>200 Hz</th>\n",
       "      <td>26.876369</td>\n",
       "    </tr>\n",
       "    <tr>\n",
       "      <th>250 Hz</th>\n",
       "      <td>29.861292</td>\n",
       "    </tr>\n",
       "    <tr>\n",
       "      <th>315 Hz</th>\n",
       "      <td>30.635231</td>\n",
       "    </tr>\n",
       "    <tr>\n",
       "      <th>400 Hz</th>\n",
       "      <td>45.601385</td>\n",
       "    </tr>\n",
       "    <tr>\n",
       "      <th>500 Hz</th>\n",
       "      <td>59.159138</td>\n",
       "    </tr>\n",
       "    <tr>\n",
       "      <th>630 Hz</th>\n",
       "      <td>64.052554</td>\n",
       "    </tr>\n",
       "    <tr>\n",
       "      <th>800 Hz</th>\n",
       "      <td>71.647877</td>\n",
       "    </tr>\n",
       "    <tr>\n",
       "      <th>1000 Hz</th>\n",
       "      <td>76.180615</td>\n",
       "    </tr>\n",
       "    <tr>\n",
       "      <th>1250 Hz</th>\n",
       "      <td>69.404462</td>\n",
       "    </tr>\n",
       "    <tr>\n",
       "      <th>1600 Hz</th>\n",
       "      <td>64.447569</td>\n",
       "    </tr>\n",
       "    <tr>\n",
       "      <th>2000 Hz</th>\n",
       "      <td>58.508000</td>\n",
       "    </tr>\n",
       "    <tr>\n",
       "      <th>2500 Hz</th>\n",
       "      <td>54.102092</td>\n",
       "    </tr>\n",
       "    <tr>\n",
       "      <th>3150 Hz</th>\n",
       "      <td>56.573508</td>\n",
       "    </tr>\n",
       "    <tr>\n",
       "      <th>4000 Hz</th>\n",
       "      <td>50.058523</td>\n",
       "    </tr>\n",
       "    <tr>\n",
       "      <th>5000 Hz</th>\n",
       "      <td>48.740031</td>\n",
       "    </tr>\n",
       "    <tr>\n",
       "      <th>6300 Hz</th>\n",
       "      <td>49.832923</td>\n",
       "    </tr>\n",
       "    <tr>\n",
       "      <th>8000 Hz</th>\n",
       "      <td>42.207477</td>\n",
       "    </tr>\n",
       "    <tr>\n",
       "      <th>10000 Hz</th>\n",
       "      <td>42.337262</td>\n",
       "    </tr>\n",
       "    <tr>\n",
       "      <th>12500 Hz</th>\n",
       "      <td>32.678185</td>\n",
       "    </tr>\n",
       "    <tr>\n",
       "      <th>16000 Hz</th>\n",
       "      <td>36.731138</td>\n",
       "    </tr>\n",
       "    <tr>\n",
       "      <th>Global</th>\n",
       "      <td>78.641262</td>\n",
       "    </tr>\n",
       "  </tbody>\n",
       "</table>\n",
       "</div>"
      ],
      "text/plain": [
       "                dBA\n",
       "25 Hz    -33.382154\n",
       "31.5 Hz  -23.610462\n",
       "40 Hz     -8.658431\n",
       "50 Hz      6.305662\n",
       "63 Hz     17.544277\n",
       "80 Hz     19.442554\n",
       "100 Hz    16.578431\n",
       "125 Hz    20.533662\n",
       "160 Hz    23.010092\n",
       "200 Hz    26.876369\n",
       "250 Hz    29.861292\n",
       "315 Hz    30.635231\n",
       "400 Hz    45.601385\n",
       "500 Hz    59.159138\n",
       "630 Hz    64.052554\n",
       "800 Hz    71.647877\n",
       "1000 Hz   76.180615\n",
       "1250 Hz   69.404462\n",
       "1600 Hz   64.447569\n",
       "2000 Hz   58.508000\n",
       "2500 Hz   54.102092\n",
       "3150 Hz   56.573508\n",
       "4000 Hz   50.058523\n",
       "5000 Hz   48.740031\n",
       "6300 Hz   49.832923\n",
       "8000 Hz   42.207477\n",
       "10000 Hz  42.337262\n",
       "12500 Hz  32.678185\n",
       "16000 Hz  36.731138\n",
       "Global    78.641262"
      ]
     },
     "execution_count": 48,
     "metadata": {},
     "output_type": "execute_result"
    }
   ],
   "source": [
    "mean"
   ]
  },
  {
   "cell_type": "code",
   "execution_count": 49,
   "id": "1fe01a45",
   "metadata": {},
   "outputs": [],
   "source": [
    "type(mean)\n",
    "mean.to_csv(\"data.csv\")"
   ]
  },
  {
   "cell_type": "code",
   "execution_count": 56,
   "id": "b89692fa",
   "metadata": {},
   "outputs": [
    {
     "data": {
      "text/plain": [
       "<AxesSubplot:>"
      ]
     },
     "execution_count": 56,
     "metadata": {},
     "output_type": "execute_result"
    },
    {
     "data": {
      "image/png": "[encoded data removed]",
      "text/plain": [
       "<Figure size 792x432 with 1 Axes>"
      ]
     },
     "metadata": {
      "needs_background": "light"
     },
     "output_type": "display_data"
    }
   ],
   "source": [
    "mean.plot.bar( y='dBA', figsize=(11, 6), )"
   ]
  },
  {
   "cell_type": "code",
   "execution_count": null,
   "id": "84420fdc",
   "metadata": {},
   "outputs": [],
   "source": []
  }
 ],
 "metadata": {
  "kernelspec": {
   "display_name": "Python 3",
   "language": "python",
   "name": "python3"
  },
  "language_info": {
   "codemirror_mode": {
    "name": "ipython",
    "version": 3
   },
   "file_extension": ".py",
   "mimetype": "text/x-python",
   "name": "python",
   "nbconvert_exporter": "python",
   "pygments_lexer": "ipython3",
   "version": "3.8.8"
  }
 },
 "nbformat": 4,
 "nbformat_minor": 5
}
